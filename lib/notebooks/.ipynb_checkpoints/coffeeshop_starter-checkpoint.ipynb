{
 "cells": [
  {
   "cell_type": "markdown",
   "id": "edc9913b-9380-4044-b069-9fa84780a678",
   "metadata": {},
   "source": [
    "---\n",
    "---\n",
    "---"
   ]
  },
  {
   "cell_type": "markdown",
   "id": "d80e8ffe-fcdd-404b-836e-6e1415878004",
   "metadata": {},
   "source": [
    "# Understanding the Coffeeshop Mock Code Challenge"
   ]
  },
  {
   "cell_type": "markdown",
   "id": "e4ed1bab-54e7-4776-ac45-aa643c0fc971",
   "metadata": {},
   "source": [
    "Starting off, we always want to take some time (5-10 minutes) to architect and understand the **object relationships** that are required of us to develop.\n",
    "\n",
    "In this specific case, we're given some important guidelines:\n",
    "- We have three models: `Coffee`, `Customer`, and `Transaction`\n",
    "- A `Coffee` can have many `Transaction` instances\n",
    "- A `Customer` can have many `Transaction` instances\n",
    "- A `Transaction` instance belongs to an instance of `Customer` and to an instance of `Coffee`\n",
    "- `Coffee` - `Customer` is a many-to-many relationship\n",
    "\n",
    "In other words, we are given that we have two primary models (`Coffee` and `Customer`) that represent our user-facing (top-level) object abstractions while our third model (`Transaction`) serves as an under-the-hood way to associate the two primary models in our prototype database.\n",
    "\n",
    "It's likely then that `Coffee` and `Customer` are going to be analogously architected (with differences depending more particularly in terms of _how_ they're used from a user level) while `Transaction` is going to be more intricately engineered to \"tether together\" attributes and methodology between `Coffee` and `Customer`."
   ]
  },
  {
   "cell_type": "markdown",
   "id": "9b998758-2e31-41c1-ada8-549dbf321f17",
   "metadata": {},
   "source": [
    "### Remember to take the time to draw out your object relationships and map out which attributes and methods are needed to architect. \n",
    "\n",
    "**It's one thing to have to swap back and forth to written instructions in a `README.md` file that dictate deliverables – it's another thing to be able to visually see those deliverables on a piece-of-paper next to you.**"
   ]
  },
  {
   "cell_type": "markdown",
   "id": "6d2ff21d-5995-41e1-8411-eb3c5aed0fdd",
   "metadata": {},
   "source": [
    "---\n",
    "---"
   ]
  },
  {
   "cell_type": "markdown",
   "id": "268946de-cfa2-49d6-820a-441ee782ef04",
   "metadata": {},
   "source": [
    "## Initial Object Model States"
   ]
  },
  {
   "cell_type": "markdown",
   "id": "f599382c-daf6-4e4c-9e49-299040cbd017",
   "metadata": {},
   "source": [
    "To start off, you can certainly save some time from swapping back and forth between your code editor and your Jupyter Lab environment by simply copying your initial object model boilerplates into this notebook to work off of. "
   ]
  },
  {
   "cell_type": "markdown",
   "id": "31edab63-c3dd-4892-a458-ef03237803dd",
   "metadata": {},
   "source": [
    "**The Initial Coffee Class.**"
   ]
  },
  {
   "cell_type": "code",
   "execution_count": null,
   "id": "0df8707e-46b7-4c11-8723-166ae1e918e9",
   "metadata": {},
   "outputs": [],
   "source": [
    "# Place the Boilerplate for the Coffee Class here!"
   ]
  },
  {
   "cell_type": "markdown",
   "id": "df896b5b-511c-4474-88c2-639c52fc8507",
   "metadata": {},
   "source": [
    "**The Initial Customer Class.**"
   ]
  },
  {
   "cell_type": "code",
   "execution_count": null,
   "id": "6ab20001-229a-412f-b578-631a45bbe04e",
   "metadata": {},
   "outputs": [],
   "source": [
    "# Place the Boilerplate for the Customer Class here!"
   ]
  },
  {
   "cell_type": "markdown",
   "id": "b7ab97f0-e238-4a11-999a-1d5bd6a32180",
   "metadata": {},
   "source": [
    "**The Initial Transaction Class.**"
   ]
  },
  {
   "cell_type": "code",
   "execution_count": null,
   "id": "eed109a7-4b45-4925-b12e-fc26c841899f",
   "metadata": {},
   "outputs": [],
   "source": [
    "# Place the Boilerplate for the Transaction Class here!"
   ]
  },
  {
   "cell_type": "markdown",
   "id": "8f5c7bce-3ad7-4228-aa58-bec0321d91ed",
   "metadata": {},
   "source": [
    "---\n",
    "---"
   ]
  },
  {
   "cell_type": "markdown",
   "id": "9dc74ea5-79e2-4be3-b8ac-facb59e633dc",
   "metadata": {},
   "source": [
    "## Defining Initializers and Properties"
   ]
  },
  {
   "cell_type": "markdown",
   "id": "1d221d21-969c-40cc-ba38-4ef20ebd01d9",
   "metadata": {},
   "source": [
    "Before we can tether together our models via logical methods and operationality, we need to make sure that they actually have the ability to track relevant data independently.\n",
    "\n",
    "In other words, we need to construct their attributes and properties upon initialization before adding any fancy methods and connecting them."
   ]
  },
  {
   "cell_type": "markdown",
   "id": "08b3575a-90e2-40be-b460-10cf8da96e7c",
   "metadata": {},
   "source": [
    "---"
   ]
  },
  {
   "cell_type": "markdown",
   "id": "78642a61-0b8a-4cfe-83bc-0b5a70971860",
   "metadata": {},
   "source": [
    "### Architecting the Coffee Object."
   ]
  },
  {
   "cell_type": "code",
   "execution_count": null,
   "id": "e464fc91-d167-4b93-940f-544e102bf648",
   "metadata": {},
   "outputs": [],
   "source": [
    "# Implement the Coffee class here!"
   ]
  },
  {
   "cell_type": "markdown",
   "id": "52488232-bd54-4c27-aa7a-0241c47d99a7",
   "metadata": {},
   "source": [
    "### Testing the Coffee Object."
   ]
  },
  {
   "cell_type": "code",
   "execution_count": null,
   "id": "5a554802-4196-444d-abf9-3c95ef8ef57e",
   "metadata": {},
   "outputs": [],
   "source": [
    "# Test the Coffee class here!"
   ]
  },
  {
   "cell_type": "markdown",
   "id": "7c316c94-24e0-48d0-978a-f5ac58a829cd",
   "metadata": {},
   "source": [
    "---"
   ]
  },
  {
   "cell_type": "markdown",
   "id": "8bacb7bb-8466-417a-bf72-83681fa05ed2",
   "metadata": {},
   "source": [
    "### Architecting the Customer Object."
   ]
  },
  {
   "cell_type": "code",
   "execution_count": null,
   "id": "99364948-eaf1-497d-8733-4dd5e8c60588",
   "metadata": {},
   "outputs": [],
   "source": [
    "# Implement the Customer class here!"
   ]
  },
  {
   "cell_type": "markdown",
   "id": "c2225ee8-490a-4e20-99fc-b5843a82e6a3",
   "metadata": {},
   "source": [
    "### Testing the Customer Object."
   ]
  },
  {
   "cell_type": "code",
   "execution_count": null,
   "id": "2240a2ab-0239-4e76-8325-56dd75d84346",
   "metadata": {},
   "outputs": [],
   "source": [
    "# Test the Customer class here!"
   ]
  },
  {
   "cell_type": "markdown",
   "id": "2cb5e44e-e2d8-400e-8eed-d7bf0b122e66",
   "metadata": {},
   "source": [
    "---"
   ]
  },
  {
   "cell_type": "markdown",
   "id": "5bc76ec6-b29c-4095-9682-e93d51379f58",
   "metadata": {},
   "source": [
    "### Architecting the Transaction Object."
   ]
  },
  {
   "cell_type": "code",
   "execution_count": null,
   "id": "d6afc4ab-e377-428e-97bb-24a52429a97f",
   "metadata": {},
   "outputs": [],
   "source": [
    "# Implement the association object here!"
   ]
  },
  {
   "cell_type": "markdown",
   "id": "15a3056c-f782-4398-8bde-eaeeeec87a27",
   "metadata": {},
   "source": [
    "### Testing the Transaction Object."
   ]
  },
  {
   "cell_type": "code",
   "execution_count": null,
   "id": "00c2e804-7a22-4c4e-909c-e8be716cae1d",
   "metadata": {},
   "outputs": [],
   "source": [
    "# Test the association object here!"
   ]
  },
  {
   "cell_type": "markdown",
   "id": "2a2d61be-5dec-45cc-9e55-b81c5514152f",
   "metadata": {},
   "source": [
    "---\n",
    "---"
   ]
  },
  {
   "cell_type": "markdown",
   "id": "4e03d70b-fa5a-40b6-8b33-6b89f0819731",
   "metadata": {},
   "source": [
    "## Object Relational Methods"
   ]
  },
  {
   "cell_type": "markdown",
   "id": "672762ae-69d5-45a7-a1c2-6675051d68cc",
   "metadata": {},
   "source": [
    "Now that our object models are defined and set up with relevant managed attributes (properties), we can start introducing interactivity between our models to emulate how a database architecture for our pretend café would work!"
   ]
  },
  {
   "cell_type": "markdown",
   "id": "b4988ea1-ed40-48fa-9477-0bad05758706",
   "metadata": {},
   "source": [
    "---"
   ]
  },
  {
   "cell_type": "markdown",
   "id": "c6825b36-76ff-4e64-95b8-e3dc164fc7d3",
   "metadata": {},
   "source": [
    "### Extending the Relationship Between Coffee and Order."
   ]
  },
  {
   "cell_type": "markdown",
   "id": "4d364f5a-7ef6-48dc-9754-c8b89bb358a7",
   "metadata": {},
   "source": [
    "**Modifying the Coffee Class.**"
   ]
  },
  {
   "cell_type": "code",
   "execution_count": null,
   "id": "42fcfe4c-9014-4b24-a8dd-5396487e40da",
   "metadata": {},
   "outputs": [],
   "source": [
    "# Construct Coffee's relational methods here!"
   ]
  },
  {
   "cell_type": "markdown",
   "id": "2ebef7ee-1c0c-4393-b55d-7e7007624c47",
   "metadata": {},
   "source": [
    "**Modifying the Order Class.**"
   ]
  },
  {
   "cell_type": "code",
   "execution_count": null,
   "id": "438f6c2d-183b-490a-a9d9-86829938f11d",
   "metadata": {},
   "outputs": [],
   "source": [
    "# Invoke Coffee's relational methods here!"
   ]
  },
  {
   "cell_type": "markdown",
   "id": "20f1904e-eb11-418b-b7b4-38ae4974f90b",
   "metadata": {},
   "source": [
    "### Testing the Relationship Between Coffee and Order."
   ]
  },
  {
   "cell_type": "code",
   "execution_count": null,
   "id": "0932cfea-5388-43a3-bbbd-3882964f9907",
   "metadata": {},
   "outputs": [],
   "source": [
    "# Test the OR Methods for Coffee here!"
   ]
  },
  {
   "cell_type": "markdown",
   "id": "1ef11278-166b-4ee8-8566-f5c516416d85",
   "metadata": {},
   "source": [
    "---"
   ]
  },
  {
   "cell_type": "markdown",
   "id": "46dec959-f7c1-4ccd-8b76-7459bea5089a",
   "metadata": {},
   "source": [
    "### Extending the Relationship Between Customer and Order."
   ]
  },
  {
   "cell_type": "markdown",
   "id": "36846279-4cdb-4f03-a969-248e27c7c2c6",
   "metadata": {},
   "source": [
    "**Modifying the Customer Class.**"
   ]
  },
  {
   "cell_type": "code",
   "execution_count": null,
   "id": "f658d0ea-2e8e-4ef4-99c7-c796a62d17b5",
   "metadata": {},
   "outputs": [],
   "source": [
    "# Construct Customer's relational methods here!"
   ]
  },
  {
   "cell_type": "markdown",
   "id": "2e0e4c95-11f3-4711-966f-71d0d279896d",
   "metadata": {},
   "source": [
    "**Modifying the Order Class.**"
   ]
  },
  {
   "cell_type": "code",
   "execution_count": null,
   "id": "0725b11f-c10c-4385-aad8-9b5fe0e94a19",
   "metadata": {},
   "outputs": [],
   "source": [
    "# Invoke Customer's relational methods here!"
   ]
  },
  {
   "cell_type": "markdown",
   "id": "541ec205-77f7-432e-9c12-d0e2318ae49e",
   "metadata": {},
   "source": [
    "### Testing the Relationship Between Customer and Order."
   ]
  },
  {
   "cell_type": "code",
   "execution_count": null,
   "id": "594144fb-1c41-4f11-aa07-800e02374f3f",
   "metadata": {},
   "outputs": [],
   "source": [
    "# Test the OR Methods for Customer here!"
   ]
  },
  {
   "cell_type": "markdown",
   "id": "733cd579-1d56-41d2-8006-555eaa85adb7",
   "metadata": {},
   "source": [
    "---\n",
    "---"
   ]
  },
  {
   "cell_type": "markdown",
   "id": "f1a8a7fb-5d87-41d6-9008-6eb01d0550e6",
   "metadata": {},
   "source": [
    "## Aggregate and Association Methods"
   ]
  },
  {
   "cell_type": "markdown",
   "id": "104649c2-3b65-47b9-bfa7-0bc92557c171",
   "metadata": {},
   "source": [
    "The last piece of our puzzle is creating \"aggregate and association methods\" that actually express user-oriented operations that can perform calculations and logic across multiple objects at once.\n",
    "\n",
    "In this case, these methods are focused on the `Coffee` and `Customer` classes and entail five primary operations:\n",
    "\n",
    "- Get the **number of transactions** for a particular coffee.\n",
    "- Get the **average price** of a particular coffee.\n",
    "- Get the **total money spent** by a particular customer.\n",
    "- Get the **coffees within a price range** purchased by a particular customer.\n",
    "- Allow a customer to **place an order** for a coffee at a certain price."
   ]
  },
  {
   "cell_type": "markdown",
   "id": "2c9d2dd2-80a0-4d61-a431-1aba4e593f92",
   "metadata": {},
   "source": [
    "### Designing User-Exposed Methods for the Coffee Object."
   ]
  },
  {
   "cell_type": "code",
   "execution_count": null,
   "id": "6c93f5d6-f049-4ccb-9c4f-05a89a68c830",
   "metadata": {},
   "outputs": [],
   "source": [
    "# Write Coffee's aggregate & association methods here!"
   ]
  },
  {
   "cell_type": "markdown",
   "id": "2b91c3d7-d630-4033-96b4-445a9ffff613",
   "metadata": {},
   "source": [
    "### Testing the Exposed Methods for the Coffee Object."
   ]
  },
  {
   "cell_type": "code",
   "execution_count": null,
   "id": "4e3f592d-0224-4f83-9254-6fc43cb5c7ac",
   "metadata": {},
   "outputs": [],
   "source": [
    "# Test the aggregate & association methods for Coffee here!"
   ]
  },
  {
   "cell_type": "markdown",
   "id": "843e0206-a10f-4910-85e7-44da10a4212c",
   "metadata": {},
   "source": [
    "---"
   ]
  },
  {
   "cell_type": "markdown",
   "id": "b4c859e3-99ee-4909-b0d1-9062564c7f8f",
   "metadata": {},
   "source": [
    "### Designing User-Exposed Methods for the Customer Object."
   ]
  },
  {
   "cell_type": "code",
   "execution_count": null,
   "id": "8e5a5894-55ca-4093-a8db-d07224f962a7",
   "metadata": {},
   "outputs": [],
   "source": [
    "# Write Customer's aggregate & association methods here!"
   ]
  },
  {
   "cell_type": "markdown",
   "id": "e2581745-26de-42cc-83b4-03dd81d451c0",
   "metadata": {},
   "source": [
    "### Testing the Exposed Methods for the Customer Object."
   ]
  },
  {
   "cell_type": "code",
   "execution_count": null,
   "id": "ddfaee95-28dc-4a25-809d-290763b8d4b3",
   "metadata": {},
   "outputs": [],
   "source": [
    "# Test the aggregate & association methods for Customer here!"
   ]
  },
  {
   "cell_type": "markdown",
   "id": "2536a3d6-0c8f-463e-a593-ace8eaa382f6",
   "metadata": {},
   "source": [
    "---\n",
    "---"
   ]
  },
  {
   "cell_type": "markdown",
   "id": "de6a1b3e-a5bc-43aa-8608-7fc142f86687",
   "metadata": {},
   "source": [
    "## Final Deliverable Models"
   ]
  },
  {
   "cell_type": "markdown",
   "id": "e74d4f38-f46a-4dc6-bee8-c69b27cac89b",
   "metadata": {},
   "source": [
    "**The Completed Coffee Class.**"
   ]
  },
  {
   "cell_type": "code",
   "execution_count": null,
   "id": "178362e7-80d0-4989-98bb-c35e6d6a1080",
   "metadata": {},
   "outputs": [],
   "source": [
    "# Finalize the Coffee object model here!"
   ]
  },
  {
   "cell_type": "markdown",
   "id": "eec3d375-c5cf-4244-84b9-400a3f60f373",
   "metadata": {},
   "source": [
    "**The Completed Customer Class.**"
   ]
  },
  {
   "cell_type": "code",
   "execution_count": null,
   "id": "4a74edbc-0395-431a-b57a-4ea221098e33",
   "metadata": {},
   "outputs": [],
   "source": [
    "# Finalize the Customer object model here!"
   ]
  },
  {
   "cell_type": "markdown",
   "id": "68d81e1c-edea-4d31-b55b-92040a4da3bf",
   "metadata": {},
   "source": [
    "**The Completed Transaction Class.**"
   ]
  },
  {
   "cell_type": "code",
   "execution_count": null,
   "id": "4e43fb02-2598-4c8a-8a8b-cc459711a91e",
   "metadata": {},
   "outputs": [],
   "source": [
    "# Finalize the Transaction object model here!"
   ]
  },
  {
   "cell_type": "markdown",
   "id": "b7401435-5c06-4275-ba20-d26718e45ac9",
   "metadata": {},
   "source": [
    "---\n",
    "---"
   ]
  },
  {
   "cell_type": "markdown",
   "id": "9190aca2-c4a0-4f76-b220-13bc7572e2c2",
   "metadata": {},
   "source": [
    "At this point, there's one thing left to do... copy and paste your completed object models back into VS Code (or your preferred code editor) and execute `pytest`'s pre-written unit testing suite to ensure that your code passes the code challenge requirements.\n",
    "\n",
    "Don't forget to uncomment the relative module import statements! \n",
    "\n",
    "Otherwise, nice work! "
   ]
  },
  {
   "cell_type": "markdown",
   "id": "bc2b027f-708b-46e0-9d1d-cec4564140a1",
   "metadata": {},
   "source": [
    "---\n",
    "---\n",
    "---"
   ]
  }
 ],
 "metadata": {
  "kernelspec": {
   "display_name": "Python 3 (ipykernel)",
   "language": "python",
   "name": "python3"
  },
  "language_info": {
   "codemirror_mode": {
    "name": "ipython",
    "version": 3
   },
   "file_extension": ".py",
   "mimetype": "text/x-python",
   "name": "python",
   "nbconvert_exporter": "python",
   "pygments_lexer": "ipython3",
   "version": "3.11.3"
  }
 },
 "nbformat": 4,
 "nbformat_minor": 5
}
